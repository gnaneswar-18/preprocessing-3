{
  "nbformat": 4,
  "nbformat_minor": 0,
  "metadata": {
    "colab": {
      "provenance": [],
      "authorship_tag": "ABX9TyOvKCcfJwUMVcKKY6cPbcmy",
      "include_colab_link": true
    },
    "kernelspec": {
      "name": "python3",
      "display_name": "Python 3"
    },
    "language_info": {
      "name": "python"
    }
  },
  "cells": [
    {
      "cell_type": "markdown",
      "metadata": {
        "id": "view-in-github",
        "colab_type": "text"
      },
      "source": [
        "<a href=\"https://colab.research.google.com/github/gnaneswar-18/preprocessing-3/blob/main/lab_2(correlation).ipynb\" target=\"_parent\"><img src=\"https://colab.research.google.com/assets/colab-badge.svg\" alt=\"Open In Colab\"/></a>"
      ]
    },
    {
      "cell_type": "code",
      "execution_count": null,
      "metadata": {
        "colab": {
          "base_uri": "https://localhost:8080/"
        },
        "id": "2iBklQjarldr",
        "outputId": "a7f26476-ae1a-4442-d084-a5352780d123"
      },
      "outputs": [
        {
          "output_type": "stream",
          "name": "stdout",
          "text": [
            "Vector 1: [0.89008437 0.64400018 0.77616474 0.32895981 0.34278299 0.49520331\n",
            " 0.02797427 0.28169625 0.97045152 0.70206246]\n",
            "Vector 2: [0.75997169 0.51686346 0.76590894 0.07615922 0.38569069 0.13189237\n",
            " 0.43583856 0.04188303 0.85769748 0.9733859 ]\n"
          ]
        }
      ],
      "source": [
        "import numpy as np\n",
        "N=10\n",
        "arr_1 = np.random.rand(N)\n",
        "arr_2 = np.random.rand(N)\n",
        "\n",
        "print(\"Vector 1:\", arr_1)\n",
        "print(\"Vector 2:\", arr_2)\n"
      ]
    },
    {
      "cell_type": "code",
      "source": [
        "correlation_matrix = np.corrcoef(arr_1, arr_2)\n",
        "print(correlation_matrix)\n",
        "\n",
        "correlation = correlation_matrix[0, 1]\n",
        "print(\"Correlation:\", correlation)\n"
      ],
      "metadata": {
        "colab": {
          "base_uri": "https://localhost:8080/"
        },
        "id": "ext9M7IaskO9",
        "outputId": "63e28ac4-fab1-4185-8e4b-05de40dae1e5"
      },
      "execution_count": null,
      "outputs": [
        {
          "output_type": "stream",
          "name": "stdout",
          "text": [
            "[[1.         0.72642689]\n",
            " [0.72642689 1.        ]]\n",
            "Correlation: 0.7264268886604722\n"
          ]
        }
      ]
    }
  ]
}